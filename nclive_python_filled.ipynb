{
  "nbformat": 4,
  "nbformat_minor": 0,
  "metadata": {
    "colab": {
      "name": "nclive_python_filled.ipynb",
      "provenance": [],
      "collapsed_sections": [],
      "authorship_tag": "ABX9TyNA+c4E2gTprAf8OP54LesF",
      "include_colab_link": true
    },
    "kernelspec": {
      "name": "python3",
      "display_name": "Python 3",
      "language": "python"
    }
  },
  "cells": [
    {
      "cell_type": "markdown",
      "metadata": {
        "id": "view-in-github",
        "colab_type": "text"
      },
      "source": [
        "<a href=\"https://colab.research.google.com/github/csbailey5t/nclive/blob/master/nclive_python_filled.ipynb\" target=\"_parent\"><img src=\"https://colab.research.google.com/assets/colab-badge.svg\" alt=\"Open In Colab\"/></a>"
      ]
    },
    {
      "cell_type": "markdown",
      "metadata": {
        "id": "Kh2zV3t3i6Gi"
      },
      "source": [
        "# NC LIVE Python for Librarians"
      ]
    },
    {
      "cell_type": "markdown",
      "metadata": {
        "id": "XgAjBY5IHGMO"
      },
      "source": [
        "## Why Python? Why in libraries?\n",
        "\n",
        "It's multi-use: you can write simple scripts to automate tasks, write complex code for machine learning and other approaches, and even build full-scale web applications.\n",
        "\n",
        "The biggest reason we see people learning Python right now is for data science and related approaches, regardless of disciplinary background. It's a great tool for analyzing data of many different types, whether spreadsheets, text files, or MARC records. \n",
        "\n",
        "Are there parts of your work that you think Python could help with? If you'd like, type one reason you were interested in learning about Python, even if it isn't for work!"
      ]
    },
    {
      "cell_type": "markdown",
      "metadata": {
        "id": "VdIacS7MlzKa"
      },
      "source": [
        "## Jupyter Notebooks and Google Colaboratory\n",
        "\n",
        "Jupyter notebooks are a way to write and run Python code in an interactive way. They're quickly becoming a standard way of putting together data, code, and written explanations or visualizations into a single document and sharing that. There are a lot of ways that you can run Jupyter notebooks, including just locally on your computer, but we've decided to use Google's Colaboratory notebook platform for this workshop.  Colaboratory is “a Google research project created to help disseminate machine learning education and research.”  If you would like to know more about Colaboratory in general, you can visit the [Welcome Notebook](https://colab.research.google.com/notebooks/welcome.ipynb).\n",
        "\n",
        "Using the Google Colaboratory platform allows us to focus on learning and writing Python in the workshop rather than on setting up Python, which can sometimes take a bit of extra work depending on platforms, operating systems, and other installed applications. "
      ]
    },
    {
      "cell_type": "markdown",
      "metadata": {
        "id": "0eRP3hh5l8UP"
      },
      "source": [
        "## Analyzing tabular data with Python"
      ]
    },
    {
      "cell_type": "markdown",
      "metadata": {
        "id": "am_tQtbgpIeS"
      },
      "source": [
        "In this first cell, we'll import one of the most commonly used libraries in Python, called `pandas`. It's a library, which is a set of added functionality, for working with data. Python has a standard library that is always available, and contains the core parts of the language. Different people author other libraries, though, which can be used to extend what Python can do, or just make it easier to do particular tasks. \n",
        "\n",
        "`pandas` has a great [getting started guide](https://pandas.pydata.org/pandas-docs/stable/getting_started/index.html), and excellent [detailed documentation](https://pandas.pydata.org/pandas-docs/stable/user_guide/index.html). \n",
        "\n",
        "For now, let's ignore the second line in the cell, which is just telling `pandas` to round long decimal numbers to two places rather than use scientific notation. "
      ]
    },
    {
      "cell_type": "code",
      "metadata": {
        "id": "srEWiotZiizD"
      },
      "source": [
        "import pandas as pd\n",
        "pd.set_option('display.float_format', lambda x: '%.2f' % x)"
      ],
      "execution_count": null,
      "outputs": []
    },
    {
      "cell_type": "markdown",
      "metadata": {
        "id": "LXKzhz5Lppb7"
      },
      "source": [
        "In the cell below, we'll create a new variable, where we'll store the url where our data is. For now, we're going to pull the data directly from where it lives on the web, but this could also be a path to data on your local computer. "
      ]
    },
    {
      "cell_type": "code",
      "metadata": {
        "id": "_zdE3n32iuRd"
      },
      "source": [
        "data = \"https://github.com/csbailey5t/nclive/blob/master/FY20Tables_DraftWeb.xlsx?raw=true\" "
      ],
      "execution_count": null,
      "outputs": []
    },
    {
      "cell_type": "markdown",
      "metadata": {
        "id": "4E_1chXNqdw9"
      },
      "source": [
        "Here, we'll create a `DataFrame`, which is a form of tabular data that provides some great functionality. We'll save that data in a new variable `df`. "
      ]
    },
    {
      "cell_type": "code",
      "metadata": {
        "id": "XbMaaUOhiwxn"
      },
      "source": [
        "df = pd.read_excel(data, sheet_name=\"Table 7 Collections\", header=4)"
      ],
      "execution_count": null,
      "outputs": []
    },
    {
      "cell_type": "markdown",
      "metadata": {
        "id": "YRD660hHq_Hz"
      },
      "source": [
        "`DataFrames` have different functions or methods already defined for them. We'll call one of these, `head`, to show the first 5 rows of the data. "
      ]
    },
    {
      "cell_type": "code",
      "metadata": {
        "id": "NGgkR38oizAV"
      },
      "source": [
        "df.head()"
      ],
      "execution_count": null,
      "outputs": []
    },
    {
      "cell_type": "markdown",
      "metadata": {
        "id": "3FNy2-9_rL0p"
      },
      "source": [
        "We can see that we have a strange column at the front of our data, which an auto-assigned name, and `NaN` values. `NaN`, or \"not a number,\" is what `pandas` uses to fill in empty data. We have this column because there is an empty column at the front of the original data, due to how it's producers created it. \n",
        "\n"
      ]
    },
    {
      "cell_type": "markdown",
      "metadata": {
        "id": "rwlB6mXtOd0Z"
      },
      "source": [
        "Let's take a look also at the end of our data. We can use the `tail` method, along with a parameter, to get the last ten rows."
      ]
    },
    {
      "cell_type": "code",
      "metadata": {
        "id": "AwOr8K29OauC"
      },
      "source": [
        "df.tail(n=10)"
      ],
      "execution_count": null,
      "outputs": []
    },
    {
      "cell_type": "markdown",
      "metadata": {
        "id": "3smnKsIAOojH"
      },
      "source": [
        "We can see that we have some strange rows at the end that seem to be summary statistics. Having them at the end of the file is great for someone reading this as a report (which it is!), but not great for us as people who might want to analyze this data.\n",
        "\n",
        "Lets remove these final rows. There are a lot of ways to do this, and we'll use one that takes advantage of the `tail` method."
      ]
    },
    {
      "cell_type": "code",
      "metadata": {
        "id": "3O9mNRUpP4DV"
      },
      "source": [
        "df.drop(df.tail(7).index, inplace=True)"
      ],
      "execution_count": null,
      "outputs": []
    },
    {
      "cell_type": "markdown",
      "metadata": {
        "id": "xd5O3DeHQFa9"
      },
      "source": [
        "Let's check to make sure it worked."
      ]
    },
    {
      "cell_type": "code",
      "metadata": {
        "id": "o0DsGiT1QJDN"
      },
      "source": [
        "df.tail()"
      ],
      "execution_count": null,
      "outputs": []
    },
    {
      "cell_type": "markdown",
      "metadata": {
        "id": "VIS4YYeGOZw2"
      },
      "source": [
        "Let's make sure we know the exact names of our columns, then we can remove that column."
      ]
    },
    {
      "cell_type": "code",
      "metadata": {
        "id": "JUJEKXk6kLAq"
      },
      "source": [
        "df.columns"
      ],
      "execution_count": null,
      "outputs": []
    },
    {
      "cell_type": "markdown",
      "metadata": {
        "id": "rgnX2IpsmOh5"
      },
      "source": [
        "Note in the list above that some of the columns actually begin with a space character. We could fix that by renaming the column, but for now we'll just account for it as we work through our data."
      ]
    },
    {
      "cell_type": "code",
      "metadata": {
        "id": "1cirKD0wiz_0"
      },
      "source": [
        "df.drop(columns=[\"Unnamed: 0\"], inplace=True)\n",
        "df.head()"
      ],
      "execution_count": null,
      "outputs": []
    },
    {
      "cell_type": "markdown",
      "metadata": {
        "id": "-I7o8sOkk2YF"
      },
      "source": [
        "Now that we have our data loaded into our Python session, let's start to see what questions we could ask about it. \n",
        "\n",
        "Maybe we first just want to know how many libraries of each type (County, Regional, ...) there are. "
      ]
    },
    {
      "cell_type": "code",
      "metadata": {
        "id": "1XLS5J3ekHUp"
      },
      "source": [
        "df[\"Library type\"].value_counts()"
      ],
      "execution_count": null,
      "outputs": []
    },
    {
      "cell_type": "markdown",
      "metadata": {
        "id": "19FcDq33ly-5"
      },
      "source": [
        "What happens when we try the same function on a column of numeric values?"
      ]
    },
    {
      "cell_type": "code",
      "metadata": {
        "id": "thx8_eA7lJMa"
      },
      "source": [
        "df[\" Cataloged Adult Books\"].value_counts()"
      ],
      "execution_count": null,
      "outputs": []
    },
    {
      "cell_type": "markdown",
      "metadata": {
        "id": "oSm4MT3Kmt9Q"
      },
      "source": [
        "Pandas does have some great built in functions to help us understand quantitative data."
      ]
    },
    {
      "cell_type": "code",
      "metadata": {
        "id": "yP9m5xaDmtaH"
      },
      "source": [
        "df[\" Cataloged Adult Books\"].describe()"
      ],
      "execution_count": null,
      "outputs": []
    },
    {
      "cell_type": "code",
      "metadata": {
        "id": "D_Vx4PMtl9r4"
      },
      "source": [
        "df_summary = df.describe()\n",
        "df_summary"
      ],
      "execution_count": null,
      "outputs": []
    },
    {
      "cell_type": "markdown",
      "metadata": {
        "id": "qTRJ01tFoH3A"
      },
      "source": [
        "Where did \"Library type\" go? Pandas' `describe` method is smart enough to only run on columns where there is numerical data. \n",
        "\n",
        "What if we want to save this summary table? We can write it to disk with a convenient function. I'll write it to a `csv` file, but you could save the file as `xslx` or other formats. "
      ]
    },
    {
      "cell_type": "code",
      "metadata": {
        "id": "3GK7LVgBnkx5"
      },
      "source": [
        "df_summary.to_csv(\"FY20_summary_table.csv\")"
      ],
      "execution_count": null,
      "outputs": []
    },
    {
      "source": [
        "Let's also see what else we might be able to do with a single column of data. Maybe we want to understand the general distribution of data for ebooks across all of the listed libraries. We can look at the mean, quantiles, and such, but let's look at it visually with a histogram. \n"
      ],
      "cell_type": "markdown",
      "metadata": {}
    },
    {
      "cell_type": "code",
      "execution_count": null,
      "metadata": {},
      "outputs": [],
      "source": [
        "df[\" eBooks\"].plot.hist()"
      ]
    },
    {
      "source": [
        "Most libraries have a relatively similar number of ebooks, but a small number have around 800,000! How do we see which those are?"
      ],
      "cell_type": "markdown",
      "metadata": {}
    },
    {
      "cell_type": "code",
      "execution_count": null,
      "metadata": {},
      "outputs": [],
      "source": [
        "df[df[\" eBooks\"] > 700000]"
      ]
    },
    {
      "cell_type": "markdown",
      "metadata": {
        "id": "Ur7huc9iMvyD"
      },
      "source": [
        "Let's explore another common analytical task. Say we want to compare the three different types of libraries across the various columns. Let's think about aggregating the by way of an average of all the values for that library type in each column.\n"
      ]
    },
    {
      "cell_type": "code",
      "metadata": {
        "id": "jctDLs7ko979"
      },
      "source": [
        "df.groupby([\"Library type\"]).mean()"
      ],
      "execution_count": null,
      "outputs": []
    },
    {
      "cell_type": "markdown",
      "metadata": {
        "id": "71PqQZLJQkhv"
      },
      "source": [
        "The results of the `groupby` are themselves a DataFrame, so we could save that to a variable and write it to a file, or proceed to do further analysis with that as our data.\n",
        "\n",
        "Anything you might normally do in Excel with a pivot table, you could do with a `pandas` `groupby` statement, though `pandas` does provide a `pivot_table` method directly, which will feel familiar for some folks."
      ]
    },
    {
      "cell_type": "markdown",
      "metadata": {
        "id": "1ygXkDJzYafq"
      },
      "source": [
        "As a last thing, let's make a quick graph of these summary data. There are a lot of different libraries in Python for building visualizations, including rich, interactive visualizations. For now, we're going to stick with the plotting built into `pandas`. "
      ]
    },
    {
      "cell_type": "code",
      "metadata": {
        "id": "iYxouRLlYUo5"
      },
      "source": [
        "df.groupby([\"Library type\"]).mean().plot.bar(figsize=(20, 10))"
      ],
      "execution_count": null,
      "outputs": []
    },
    {
      "cell_type": "markdown",
      "metadata": {
        "id": "wvtFI7RCNJhM"
      },
      "source": [
        "Could you have done pretty much all of this in Excel? Sure. One great way of learning Python, or any other programming language, is to take tasks you're really familiar with and implement them in the language you're learning. \n",
        "\n",
        "So, why do this in Python? I think it's really nice to develop skill and expertise in a free, flexible tool you know you can trust, and through which you'll always be able to learn. We've only barely scratched the surface of Python here. If you start learning in one domain, you can know that many other tasks you come up against can be engaged with Python, whether that's automating regular tasks you do on your computer, analyzing and visualizing data, generating regular reports, building web applications, or processing batches of MARC records. \n",
        "\n",
        "And, at least for me, it's fun. I really enjoy writing code and the problem solving that's part of it. If you've never coded before, or haven't enjoyed it before, I encourage you to try coding and to give yourself the space to see if it ends up being a really fun thing for you too. \n",
        "\n"
      ]
    },
    {
      "cell_type": "markdown",
      "metadata": {
        "id": "dV2EQnJyjlBh"
      },
      "source": [
        "## Resources for learning Python\n",
        "\n",
        "- [A Byte of Python](https://python.swaroopch.com/) is a great intro book and reference for Python\n",
        "- [Official Python documentation](https://docs.python.org/3/), including tutorials.\n",
        "- [RealPython](https://realpython.com/) contains a lot of different tutorials at different levels\n",
        "- [Automate the Boring Stuff with Python](https://automatetheboringstuff.com/) is a classic and free work that introduces Python by teaching you automate regular tasks.\n",
        "- [LinkedIn Learning](https://www.linkedin.com/learning/topics/python) is sometimes available for free for folks at higher ed institutions and has several series of video courses related to Python in different contexts.\n",
        "- [https://www.dataquest.io/](https://www.dataquest.io): a free then paid series of courses with an emphasis on data science\n",
        "- [Udacity](https://www.udacity.com/course/introduction-to-python--ud1110), [Coursera](https://www.coursera.org/specializations/python?), [Codeacademy](https://www.codecademy.com/catalog/language/python) all have courses, some of which are available for free"
      ]
    },
    {
      "cell_type": "code",
      "metadata": {
        "id": "a5AUw1YNne8Q"
      },
      "source": [],
      "execution_count": null,
      "outputs": []
    }
  ]
}